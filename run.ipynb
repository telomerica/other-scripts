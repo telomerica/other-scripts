{
 "cells": [
  {
   "cell_type": "code",
   "execution_count": 5,
   "metadata": {},
   "outputs": [],
   "source": [
    "from array_builder import *\n",
    "from img_map import *\n",
    "import numpy as np"
   ]
  },
  {
   "cell_type": "code",
   "execution_count": 6,
   "metadata": {},
   "outputs": [
    {
     "name": "stdout",
     "output_type": "stream",
     "text": [
      "[['random', (0.1, 1)], ['perlin', (3, 986, 1, -0.2)], ['perlin', (15, 364, 1, -0.25)], ['perlin', (40, 953, 2, -0.4)]]\n"
     ]
    }
   ],
   "source": [
    "mappe = array_build((500,500),[\n",
    "    [\"random\",(0.1,1)],\n",
    "    [\"perlin\",(3,random.randint(0,1000),1,-0.2)],\n",
    "    [\"perlin\",(15,random.randint(0,1000),1,-0.25)],\n",
    "    [\"perlin\",(40,random.randint(0,1000),2,-0.4)],\n",
    "    ])"
   ]
  },
  {
   "cell_type": "markdown",
   "metadata": {},
   "source": [
    "ls = (os.listdir(\"saved_arrays\"))\n",
    "mappe = np.load(f'{os.getcwd()}/saved_arrays/{random.choice(ls)}')\n",
    "draw_map(mappe)"
   ]
  },
  {
   "cell_type": "code",
   "execution_count": 7,
   "metadata": {},
   "outputs": [],
   "source": [
    "save_map(mappe)"
   ]
  },
  {
   "cell_type": "code",
   "execution_count": 8,
   "metadata": {},
   "outputs": [
    {
     "name": "stdout",
     "output_type": "stream",
     "text": [
      "avg 0.312552\n",
      "std 0.48943155527203186\n"
     ]
    }
   ],
   "source": [
    "print(\"avg\",np.average(mappe))\n",
    "print(\"std\",np.std(mappe))"
   ]
  },
  {
   "cell_type": "code",
   "execution_count": null,
   "metadata": {},
   "outputs": [],
   "source": []
  }
 ],
 "metadata": {
  "kernelspec": {
   "display_name": "Python 3",
   "language": "python",
   "name": "python3"
  },
  "language_info": {
   "codemirror_mode": {
    "name": "ipython",
    "version": 3
   },
   "file_extension": ".py",
   "mimetype": "text/x-python",
   "name": "python",
   "nbconvert_exporter": "python",
   "pygments_lexer": "ipython3",
   "version": "3.10.6"
  },
  "orig_nbformat": 4,
  "vscode": {
   "interpreter": {
    "hash": "916dbcbb3f70747c44a77c7bcd40155683ae19c65e1c03b4aa3499c5328201f1"
   }
  }
 },
 "nbformat": 4,
 "nbformat_minor": 2
}
